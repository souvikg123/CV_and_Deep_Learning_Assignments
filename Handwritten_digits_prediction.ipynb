{
  "nbformat": 4,
  "nbformat_minor": 0,
  "metadata": {
    "colab": {
      "name": "Handwritten_digits_prediction.ipynb",
      "provenance": [],
      "authorship_tag": "ABX9TyPj4ZpwU/pv4QqmAGguub/z",
      "include_colab_link": true
    },
    "kernelspec": {
      "name": "python3",
      "display_name": "Python 3"
    }
  },
  "cells": [
    {
      "cell_type": "markdown",
      "metadata": {
        "id": "view-in-github",
        "colab_type": "text"
      },
      "source": [
        "<a href=\"https://colab.research.google.com/github/souvikg123/SOUVIK/blob/master/Handwritten_digits_prediction.ipynb\" target=\"_parent\"><img src=\"https://colab.research.google.com/assets/colab-badge.svg\" alt=\"Open In Colab\"/></a>"
      ]
    },
    {
      "cell_type": "code",
      "metadata": {
        "id": "AM0Lj3C9TALV"
      },
      "source": [
        "import tensorflow as tf\r\n",
        "from tensorflow import keras\r\n",
        "import matplotlib.pyplot as plt\r\n",
        "%matplotlib inline\r\n",
        "import numpy as np"
      ],
      "execution_count": 83,
      "outputs": []
    },
    {
      "cell_type": "code",
      "metadata": {
        "id": "Ky1GELQETXTq"
      },
      "source": [
        "(X_train, y_train) , (X_test, y_test) = keras.datasets.mnist.load_data()"
      ],
      "execution_count": 61,
      "outputs": []
    },
    {
      "cell_type": "code",
      "metadata": {
        "id": "1DO9b3saeDOZ"
      },
      "source": [
        "X_train = X_train/255 #Scaling the data\r\n",
        "X_test = X_test/255"
      ],
      "execution_count": 62,
      "outputs": []
    },
    {
      "cell_type": "code",
      "metadata": {
        "colab": {
          "base_uri": "https://localhost:8080/"
        },
        "id": "n7qkT6leTa6a",
        "outputId": "36dcb2c2-4f87-4230-edf8-d31a97589969"
      },
      "source": [
        "len(X_train)"
      ],
      "execution_count": 63,
      "outputs": [
        {
          "output_type": "execute_result",
          "data": {
            "text/plain": [
              "60000"
            ]
          },
          "metadata": {
            "tags": []
          },
          "execution_count": 63
        }
      ]
    },
    {
      "cell_type": "code",
      "metadata": {
        "colab": {
          "base_uri": "https://localhost:8080/"
        },
        "id": "0XH6d6lxUADZ",
        "outputId": "0be1645c-93ea-4dd1-d1b0-43afe50854b6"
      },
      "source": [
        "X_train[0].shape"
      ],
      "execution_count": 64,
      "outputs": [
        {
          "output_type": "execute_result",
          "data": {
            "text/plain": [
              "(28, 28)"
            ]
          },
          "metadata": {
            "tags": []
          },
          "execution_count": 64
        }
      ]
    },
    {
      "cell_type": "code",
      "metadata": {
        "id": "WzgS7tptUSkF"
      },
      "source": [
        "X_train[0]"
      ],
      "execution_count": null,
      "outputs": []
    },
    {
      "cell_type": "code",
      "metadata": {
        "colab": {
          "base_uri": "https://localhost:8080/"
        },
        "id": "K47YNyqxWLKP",
        "outputId": "f0a34ce8-163a-445e-d360-0cd14fa988b1"
      },
      "source": [
        "X_test[0].shape"
      ],
      "execution_count": 66,
      "outputs": [
        {
          "output_type": "execute_result",
          "data": {
            "text/plain": [
              "(28, 28)"
            ]
          },
          "metadata": {
            "tags": []
          },
          "execution_count": 66
        }
      ]
    },
    {
      "cell_type": "code",
      "metadata": {
        "colab": {
          "base_uri": "https://localhost:8080/",
          "height": 292
        },
        "id": "8ApgTHoyUq7d",
        "outputId": "53a41929-f370-4309-d6f3-ed88f0826564"
      },
      "source": [
        "plt.matshow(X_train[0])"
      ],
      "execution_count": 67,
      "outputs": [
        {
          "output_type": "execute_result",
          "data": {
            "text/plain": [
              "<matplotlib.image.AxesImage at 0x7fef9f0230d0>"
            ]
          },
          "metadata": {
            "tags": []
          },
          "execution_count": 67
        },
        {
          "output_type": "display_data",
          "data": {
            "image/png": "[encoded data removed]",
            "text/plain": [
              "<Figure size 288x288 with 1 Axes>"
            ]
          },
          "metadata": {
            "tags": [],
            "needs_background": "light"
          }
        }
      ]
    },
    {
      "cell_type": "code",
      "metadata": {
        "colab": {
          "base_uri": "https://localhost:8080/",
          "height": 292
        },
        "id": "HZ9D4BahU3Dh",
        "outputId": "f84210e2-357e-479d-e17b-fe905f912e19"
      },
      "source": [
        "plt.matshow(X_train[4])"
      ],
      "execution_count": 68,
      "outputs": [
        {
          "output_type": "execute_result",
          "data": {
            "text/plain": [
              "<matplotlib.image.AxesImage at 0x7fefa85204d0>"
            ]
          },
          "metadata": {
            "tags": []
          },
          "execution_count": 68
        },
        {
          "output_type": "display_data",
          "data": {
            "image/png": "[encoded data removed]",
            "text/plain": [
              "<Figure size 288x288 with 1 Axes>"
            ]
          },
          "metadata": {
            "tags": [],
            "needs_background": "light"
          }
        }
      ]
    },
    {
      "cell_type": "code",
      "metadata": {
        "colab": {
          "base_uri": "https://localhost:8080/"
        },
        "id": "Oxtk2BJ1VFq5",
        "outputId": "a925c89c-848c-4bde-ae88-935d2121a2ee"
      },
      "source": [
        "y_train[2]"
      ],
      "execution_count": 69,
      "outputs": [
        {
          "output_type": "execute_result",
          "data": {
            "text/plain": [
              "4"
            ]
          },
          "metadata": {
            "tags": []
          },
          "execution_count": 69
        }
      ]
    },
    {
      "cell_type": "code",
      "metadata": {
        "colab": {
          "base_uri": "https://localhost:8080/"
        },
        "id": "RtG6YRs8VlrO",
        "outputId": "eadb95b5-f675-468f-c479-e524acbe160b"
      },
      "source": [
        "X_train_flattened = X_train.reshape(len(X_train), 28*28)\r\n",
        "X_train_flattened.shape\r\n",
        "X_test_flattened = X_test.reshape(len(X_test), 28*28)\r\n",
        "X_test_flattened.shape"
      ],
      "execution_count": 70,
      "outputs": [
        {
          "output_type": "execute_result",
          "data": {
            "text/plain": [
              "(10000, 784)"
            ]
          },
          "metadata": {
            "tags": []
          },
          "execution_count": 70
        }
      ]
    },
    {
      "cell_type": "code",
      "metadata": {
        "colab": {
          "base_uri": "https://localhost:8080/"
        },
        "id": "FFO6IJUbXU9v",
        "outputId": "1cb0df43-7c5f-49b2-ef79-1a340d32f564"
      },
      "source": [
        "model = keras.Sequential([\r\n",
        "                          keras.layers.Dense(10, input_shape=(784,), activation = 'sigmoid'\r\n",
        ")])  #here out has 10 neurons and input 784 and activation function is sigmoid\r\n",
        "model.compile (\r\n",
        "    optimizer = 'adam',\r\n",
        "    loss = 'sparse_categorical_crossentropy',\r\n",
        "    metrics = ['accuracy']\r\n",
        ")\r\n",
        "model.fit(X_train_flattened, y_train, epochs = 5)"
      ],
      "execution_count": 71,
      "outputs": [
        {
          "output_type": "stream",
          "text": [
            "Epoch 1/5\n",
            "1875/1875 [==============================] - 2s 1ms/step - loss: 0.7259 - accuracy: 0.8141\n",
            "Epoch 2/5\n",
            "1875/1875 [==============================] - 2s 1ms/step - loss: 0.3153 - accuracy: 0.9113\n",
            "Epoch 3/5\n",
            "1875/1875 [==============================] - 2s 1ms/step - loss: 0.2847 - accuracy: 0.9195\n",
            "Epoch 4/5\n",
            "1875/1875 [==============================] - 2s 1ms/step - loss: 0.2696 - accuracy: 0.9255\n",
            "Epoch 5/5\n",
            "1875/1875 [==============================] - 2s 1ms/step - loss: 0.2632 - accuracy: 0.9268\n"
          ],
          "name": "stdout"
        },
        {
          "output_type": "execute_result",
          "data": {
            "text/plain": [
              "<tensorflow.python.keras.callbacks.History at 0x7fefa0c4ce90>"
            ]
          },
          "metadata": {
            "tags": []
          },
          "execution_count": 71
        }
      ]
    },
    {
      "cell_type": "code",
      "metadata": {
        "colab": {
          "base_uri": "https://localhost:8080/"
        },
        "id": "eWsXSwLxbRAw",
        "outputId": "715a9b0f-f455-4c4f-9f5a-539c7a946475"
      },
      "source": [
        "model.evaluate(X_test_flattened, y_test)"
      ],
      "execution_count": 72,
      "outputs": [
        {
          "output_type": "stream",
          "text": [
            "313/313 [==============================] - 0s 1ms/step - loss: 0.2665 - accuracy: 0.9274\n"
          ],
          "name": "stdout"
        },
        {
          "output_type": "execute_result",
          "data": {
            "text/plain": [
              "[0.2664792239665985, 0.9273999929428101]"
            ]
          },
          "metadata": {
            "tags": []
          },
          "execution_count": 72
        }
      ]
    },
    {
      "cell_type": "code",
      "metadata": {
        "colab": {
          "base_uri": "https://localhost:8080/",
          "height": 292
        },
        "id": "Ab-zGlc4cz4J",
        "outputId": "203c61e4-d4b5-488d-c04a-37ec7059bc2f"
      },
      "source": [
        "plt.matshow(X_test[1])"
      ],
      "execution_count": 73,
      "outputs": [
        {
          "output_type": "execute_result",
          "data": {
            "text/plain": [
              "<matplotlib.image.AxesImage at 0x7fef9deaa850>"
            ]
          },
          "metadata": {
            "tags": []
          },
          "execution_count": 73
        },
        {
          "output_type": "display_data",
          "data": {
            "image/png": "[encoded data removed]",
            "text/plain": [
              "<Figure size 288x288 with 1 Axes>"
            ]
          },
          "metadata": {
            "tags": [],
            "needs_background": "light"
          }
        }
      ]
    },
    {
      "cell_type": "code",
      "metadata": {
        "colab": {
          "base_uri": "https://localhost:8080/"
        },
        "id": "AoZkMfWadAnm",
        "outputId": "674bbef0-9dfa-4180-d15e-39f9d286c259"
      },
      "source": [
        "y_predicted = model.predict(X_test_flattened)\r\n",
        "y_predicted[1]"
      ],
      "execution_count": 76,
      "outputs": [
        {
          "output_type": "execute_result",
          "data": {
            "text/plain": [
              "array([3.6335999e-01, 2.5788844e-03, 9.9936318e-01, 3.6048669e-01,\n",
              "       6.6289968e-10, 8.1765646e-01, 8.4866500e-01, 5.5256521e-13,\n",
              "       1.4348072e-01, 1.8787971e-09], dtype=float32)"
            ]
          },
          "metadata": {
            "tags": []
          },
          "execution_count": 76
        }
      ]
    },
    {
      "cell_type": "code",
      "metadata": {
        "colab": {
          "base_uri": "https://localhost:8080/"
        },
        "id": "FWKde_hDdb9G",
        "outputId": "102e4181-bcbc-4a33-fd71-c3a6519f5c0c"
      },
      "source": [
        "np.argmax(y_predicted[1])"
      ],
      "execution_count": 77,
      "outputs": [
        {
          "output_type": "execute_result",
          "data": {
            "text/plain": [
              "2"
            ]
          },
          "metadata": {
            "tags": []
          },
          "execution_count": 77
        }
      ]
    },
    {
      "cell_type": "code",
      "metadata": {
        "colab": {
          "base_uri": "https://localhost:8080/"
        },
        "id": "lnMnkC75e47I",
        "outputId": "d06d4239-f9b0-4395-b2bc-bf1ea5ccae36"
      },
      "source": [
        "y_predicted_labels = [np.argmax(i) for i in y_predicted]\r\n",
        "y_predicted_labels[:5]"
      ],
      "execution_count": 79,
      "outputs": [
        {
          "output_type": "execute_result",
          "data": {
            "text/plain": [
              "[7, 2, 1, 0, 4]"
            ]
          },
          "metadata": {
            "tags": []
          },
          "execution_count": 79
        }
      ]
    },
    {
      "cell_type": "code",
      "metadata": {
        "colab": {
          "base_uri": "https://localhost:8080/"
        },
        "id": "eTaQ34cdf1Wo",
        "outputId": "ba40a15f-9978-4a20-e31e-0945b64a22b0"
      },
      "source": [
        "y_test[:5]"
      ],
      "execution_count": 80,
      "outputs": [
        {
          "output_type": "execute_result",
          "data": {
            "text/plain": [
              "array([7, 2, 1, 0, 4], dtype=uint8)"
            ]
          },
          "metadata": {
            "tags": []
          },
          "execution_count": 80
        }
      ]
    },
    {
      "cell_type": "code",
      "metadata": {
        "colab": {
          "base_uri": "https://localhost:8080/"
        },
        "id": "mlHr5ol7f47d",
        "outputId": "f173b147-90b2-44c5-fce9-a437ce17fb8b"
      },
      "source": [
        "cm = tf.math.confusion_matrix(labels = y_test, predictions = y_predicted_labels)\r\n",
        "cm\r\n"
      ],
      "execution_count": 84,
      "outputs": [
        {
          "output_type": "execute_result",
          "data": {
            "text/plain": [
              "<tf.Tensor: shape=(10, 10), dtype=int32, numpy=\n",
              "array([[ 960,    0,    0,    2,    0,    5,    8,    2,    2,    1],\n",
              "       [   0, 1110,    3,    2,    0,    1,    4,    2,   13,    0],\n",
              "       [   5,    6,  918,   19,    8,    5,   12,   11,   45,    3],\n",
              "       [   3,    0,   15,  922,    1,   23,    2,   10,   27,    7],\n",
              "       [   1,    1,    5,    2,  927,    0,    8,    3,   11,   24],\n",
              "       [   7,    2,    3,   30,    9,  783,   14,    4,   34,    6],\n",
              "       [   7,    3,    4,    1,    7,   11,  918,    2,    5,    0],\n",
              "       [   1,    5,   20,    9,    9,    1,    0,  942,    4,   37],\n",
              "       [   6,    6,    6,   18,    9,   20,    9,    9,  885,    6],\n",
              "       [   7,    6,    2,    9,   37,    7,    0,   19,   13,  909]],\n",
              "      dtype=int32)>"
            ]
          },
          "metadata": {
            "tags": []
          },
          "execution_count": 84
        }
      ]
    },
    {
      "cell_type": "code",
      "metadata": {
        "colab": {
          "base_uri": "https://localhost:8080/",
          "height": 459
        },
        "id": "GMTLbOr_glFQ",
        "outputId": "e571a06a-a6e1-4dce-ca55-700d4b8bdadb"
      },
      "source": [
        "#for better visualization using seaborn library\r\n",
        "import seaborn as sn\r\n",
        "plt.figure(figsize=(10,7))\r\n",
        "sn.heatmap(cm, annot= True, fmt = 'd')\r\n",
        "plt.xlabel('Predicted')\r\n",
        "plt.ylabel('truth')"
      ],
      "execution_count": 86,
      "outputs": [
        {
          "output_type": "execute_result",
          "data": {
            "text/plain": [
              "Text(69.0, 0.5, 'truth')"
            ]
          },
          "metadata": {
            "tags": []
          },
          "execution_count": 86
        },
        {
          "output_type": "display_data",
          "data": {
            "image/png": "[encoded data removed]",
            "text/plain": [
              "<Figure size 720x504 with 2 Axes>"
            ]
          },
          "metadata": {
            "tags": [],
            "needs_background": "light"
          }
        }
      ]
    },
    {
      "cell_type": "code",
      "metadata": {
        "colab": {
          "base_uri": "https://localhost:8080/"
        },
        "id": "xQejNzNZh6N-",
        "outputId": "9caf50ac-61dc-4c54-c6ff-88de731616a1"
      },
      "source": [
        "#now lets use hidden layer and check the accuracy\r\n",
        "model = keras.Sequential([\r\n",
        "                          keras.layers.Dense(100, input_shape=(784,), activation = 'relu'),\r\n",
        "                          keras.layers.Dense(10, activation = 'sigmoid')\r\n",
        "]) #100 hidden layers with Relu activation function\r\n",
        "model.compile (\r\n",
        "    optimizer = 'adam',\r\n",
        "    loss = 'sparse_categorical_crossentropy',\r\n",
        "    metrics = ['accuracy']\r\n",
        ")\r\n",
        "model.fit(X_train_flattened, y_train, epochs = 5)\r\n"
      ],
      "execution_count": 90,
      "outputs": [
        {
          "output_type": "stream",
          "text": [
            "Epoch 1/5\n",
            "1875/1875 [==============================] - 3s 2ms/step - loss: 0.4569 - accuracy: 0.8705\n",
            "Epoch 2/5\n",
            "1875/1875 [==============================] - 3s 2ms/step - loss: 0.1302 - accuracy: 0.9614\n",
            "Epoch 3/5\n",
            "1875/1875 [==============================] - 3s 2ms/step - loss: 0.0922 - accuracy: 0.9722\n",
            "Epoch 4/5\n",
            "1875/1875 [==============================] - 3s 2ms/step - loss: 0.0675 - accuracy: 0.9795\n",
            "Epoch 5/5\n",
            "1875/1875 [==============================] - 3s 2ms/step - loss: 0.0520 - accuracy: 0.9840\n"
          ],
          "name": "stdout"
        },
        {
          "output_type": "execute_result",
          "data": {
            "text/plain": [
              "<tensorflow.python.keras.callbacks.History at 0x7fef9de1ed10>"
            ]
          },
          "metadata": {
            "tags": []
          },
          "execution_count": 90
        }
      ]
    },
    {
      "cell_type": "code",
      "metadata": {
        "colab": {
          "base_uri": "https://localhost:8080/"
        },
        "id": "44GgHAzIjrDp",
        "outputId": "21c1f1e0-f762-43e4-f89b-6317f7fb2942"
      },
      "source": [
        "model.evaluate(X_test_flattened, y_test)"
      ],
      "execution_count": 91,
      "outputs": [
        {
          "output_type": "stream",
          "text": [
            "313/313 [==============================] - 0s 1ms/step - loss: 0.0738 - accuracy: 0.9768\n"
          ],
          "name": "stdout"
        },
        {
          "output_type": "execute_result",
          "data": {
            "text/plain": [
              "[0.07382067292928696, 0.9768000245094299]"
            ]
          },
          "metadata": {
            "tags": []
          },
          "execution_count": 91
        }
      ]
    },
    {
      "cell_type": "code",
      "metadata": {
        "colab": {
          "base_uri": "https://localhost:8080/"
        },
        "id": "j1ZSTNWWkGCP",
        "outputId": "24cf418e-04cd-4e33-d394-708cf17cae10"
      },
      "source": [
        "#if I dont want to use flattened array\r\n",
        "model = keras.Sequential([\r\n",
        "                          keras.layers.Flatten(input_shape = (28,28)),\r\n",
        "                          keras.layers.Dense(100, activation = 'relu'),\r\n",
        "                          keras.layers.Dense(10, activation = 'sigmoid')\r\n",
        "]) #100 hidden layers with Relu activation function\r\n",
        "model.compile (\r\n",
        "    optimizer = 'adam',\r\n",
        "    loss = 'sparse_categorical_crossentropy',\r\n",
        "    metrics = ['accuracy']\r\n",
        ")\r\n",
        "model.fit(X_train, y_train, epochs = 5)\r\n",
        "\r\n"
      ],
      "execution_count": 95,
      "outputs": [
        {
          "output_type": "stream",
          "text": [
            "Epoch 1/5\n",
            "1875/1875 [==============================] - 4s 2ms/step - loss: 0.4587 - accuracy: 0.8740\n",
            "Epoch 2/5\n",
            "1875/1875 [==============================] - 3s 2ms/step - loss: 0.1324 - accuracy: 0.9617\n",
            "Epoch 3/5\n",
            "1875/1875 [==============================] - 3s 2ms/step - loss: 0.0849 - accuracy: 0.9757\n",
            "Epoch 4/5\n",
            "1875/1875 [==============================] - 3s 2ms/step - loss: 0.0643 - accuracy: 0.9809\n",
            "Epoch 5/5\n",
            "1875/1875 [==============================] - 3s 2ms/step - loss: 0.0490 - accuracy: 0.9846\n"
          ],
          "name": "stdout"
        },
        {
          "output_type": "execute_result",
          "data": {
            "text/plain": [
              "<tensorflow.python.keras.callbacks.History at 0x7fef8cbbe8d0>"
            ]
          },
          "metadata": {
            "tags": []
          },
          "execution_count": 95
        }
      ]
    }
  ]
}